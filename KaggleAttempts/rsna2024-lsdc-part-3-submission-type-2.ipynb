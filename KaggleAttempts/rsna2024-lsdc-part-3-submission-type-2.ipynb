{
 "cells": [
  {
   "cell_type": "code",
   "execution_count": 1,
   "id": "76a378e3",
   "metadata": {
    "_cell_guid": "b1076dfc-b9ad-4769-8c92-a6c4dae69d19",
    "_uuid": "8f2839f25d086af736a60e9eeb907d3b93b6e0e5",
    "execution": {
     "iopub.execute_input": "2024-08-06T11:11:49.383570Z",
     "iopub.status.busy": "2024-08-06T11:11:49.383164Z",
     "iopub.status.idle": "2024-08-06T11:11:58.177383Z",
     "shell.execute_reply": "2024-08-06T11:11:58.176572Z"
    },
    "papermill": {
     "duration": 8.803238,
     "end_time": "2024-08-06T11:11:58.179996",
     "exception": false,
     "start_time": "2024-08-06T11:11:49.376758",
     "status": "completed"
    },
    "tags": []
   },
   "outputs": [],
   "source": [
    "import pandas as pd\n",
    "import numpy as np\n",
    "import cv2\n",
    "import matplotlib.pyplot as plt\n",
    "from glob import glob\n",
    "import os\n",
    "from tqdm import tqdm\n",
    "from scipy.ndimage import zoom\n",
    "import pydicom\n",
    "from torch.utils.data import Dataset,DataLoader\n",
    "import albumentations as A\n",
    "import torch\n",
    "import torch.nn as nn\n",
    "import os\n",
    "import timm\n",
    "import math"
   ]
  },
  {
   "cell_type": "code",
   "execution_count": 2,
   "id": "b7bd79dc",
   "metadata": {
    "execution": {
     "iopub.execute_input": "2024-08-06T11:11:58.191091Z",
     "iopub.status.busy": "2024-08-06T11:11:58.190804Z",
     "iopub.status.idle": "2024-08-06T11:11:58.254529Z",
     "shell.execute_reply": "2024-08-06T11:11:58.253636Z"
    },
    "papermill": {
     "duration": 0.071101,
     "end_time": "2024-08-06T11:11:58.256518",
     "exception": false,
     "start_time": "2024-08-06T11:11:58.185417",
     "status": "completed"
    },
    "tags": []
   },
   "outputs": [],
   "source": [
    "comp_dir = \"/kaggle/input/rsna-2024-lumbar-spine-degenerative-classification\"\n",
    "test_desc_dir = f\"{comp_dir}/test_series_descriptions.csv\"\n",
    "device = 'cuda' if torch.cuda.is_available() else 'cpu'"
   ]
  },
  {
   "cell_type": "code",
   "execution_count": 3,
   "id": "8c9255fd",
   "metadata": {
    "execution": {
     "iopub.execute_input": "2024-08-06T11:11:58.266782Z",
     "iopub.status.busy": "2024-08-06T11:11:58.266507Z",
     "iopub.status.idle": "2024-08-06T11:11:58.318518Z",
     "shell.execute_reply": "2024-08-06T11:11:58.317756Z"
    },
    "papermill": {
     "duration": 0.059459,
     "end_time": "2024-08-06T11:11:58.320582",
     "exception": false,
     "start_time": "2024-08-06T11:11:58.261123",
     "status": "completed"
    },
    "tags": []
   },
   "outputs": [],
   "source": [
    "test_series_descriptions = pd.read_csv(test_desc_dir)\n",
    "file_num_df = test_series_descriptions\n",
    "file_nums = [len(glob(f\"{comp_dir}/test_images/{row['study_id']}/{row['series_id']}/**\")) for idx,row in file_num_df.iterrows()]\n",
    "file_num_df = pd.concat([file_num_df,pd.Series(file_nums)],axis=1)\n",
    "file_num_df.columns = ['study_id','series_id','series_description','file_len']\n",
    "file_num_df = file_num_df[file_num_df.index.isin(file_num_df.groupby(['study_id','series_description'])['file_len'].idxmax().unique())]\n",
    "study_ids = file_num_df['study_id'].unique()\n",
    "series_ids = file_num_df['series_id'].unique()\n",
    "test_series_descriptions = test_series_descriptions[test_series_descriptions['study_id'].isin(study_ids) & test_series_descriptions['series_id'].isin(series_ids)]"
   ]
  },
  {
   "cell_type": "code",
   "execution_count": 4,
   "id": "1faa0993",
   "metadata": {
    "execution": {
     "iopub.execute_input": "2024-08-06T11:11:58.331340Z",
     "iopub.status.busy": "2024-08-06T11:11:58.331058Z",
     "iopub.status.idle": "2024-08-06T11:11:58.335136Z",
     "shell.execute_reply": "2024-08-06T11:11:58.334336Z"
    },
    "papermill": {
     "duration": 0.011332,
     "end_time": "2024-08-06T11:11:58.336985",
     "exception": false,
     "start_time": "2024-08-06T11:11:58.325653",
     "status": "completed"
    },
    "tags": []
   },
   "outputs": [],
   "source": [
    "def keyFunc(e):\n",
    "    return int(e.split('/')[-1][:-4])"
   ]
  },
  {
   "cell_type": "code",
   "execution_count": 5,
   "id": "dfc8f7ab",
   "metadata": {
    "execution": {
     "iopub.execute_input": "2024-08-06T11:11:58.346956Z",
     "iopub.status.busy": "2024-08-06T11:11:58.346687Z",
     "iopub.status.idle": "2024-08-06T11:11:58.367051Z",
     "shell.execute_reply": "2024-08-06T11:11:58.366426Z"
    },
    "papermill": {
     "duration": 0.027433,
     "end_time": "2024-08-06T11:11:58.368875",
     "exception": false,
     "start_time": "2024-08-06T11:11:58.341442",
     "status": "completed"
    },
    "tags": []
   },
   "outputs": [],
   "source": [
    "class RSNA24TestDataset(Dataset):\n",
    "    def __init__(self, df, study_ids, transform=None):\n",
    "        self.df = df\n",
    "        self.study_ids = study_ids\n",
    "        self.transform = transform\n",
    "        \n",
    "    def __len__(self):\n",
    "        return len(self.study_ids)\n",
    "    \n",
    "    def _fetch_images(self, dirs):\n",
    "        images = []\n",
    "        for j, dcm_file in enumerate(dirs): \n",
    "            dcm = pydicom.dcmread(dcm_file)\n",
    "            image = dcm.pixel_array\n",
    "            if image.shape[0]<=512:\n",
    "                resized = cv2.resize(image,(512,512),interpolation = cv2.INTER_CUBIC)\n",
    "                resized = (resized - resized.min())/(resized.max()-resized.min() +1e-6) * 255\n",
    "            else:\n",
    "                resized = cv2.resize(image,(512,512),interpolation = cv2.INTER_AREA)\n",
    "                resized = (resized - resized.min())/(resized.max()-resized.min() +1e-6) * 255\n",
    "            images.append(resized)\n",
    "        return np.transpose(np.stack(images),(1,2,0)).astype(np.uint8)\n",
    "    \n",
    "    def __getitem__(self, idx):\n",
    "        study_id = self.study_ids[idx]\n",
    "        df = self.df[self.df[\"study_id\"]==study_id]\n",
    "        \n",
    "        ret_img = []\n",
    "        \n",
    "        row = df[df['series_description'] == 'Axial T2']\n",
    "        dirs = glob(f\"{comp_dir}/test_images/{row['study_id'].iloc[0]}/{row['series_id'].iloc[0]}/**\")\n",
    "        dirs.sort(key=keyFunc)\n",
    "        num_files = len(dirs)\n",
    "        if num_files < 10:\n",
    "            img = self._fetch_images(dirs)\n",
    "            img = zoom(img,(1,1,10/img.shape[2]))\n",
    "        else:\n",
    "            interval_len = num_files/20\n",
    "            indexes = [int(np.floor(i*interval_len)) for i in range(10)]\n",
    "            dirs = [dirs[index] for index in indexes]\n",
    "            img = self._fetch_images(dirs)\n",
    "        ret_img.append(img)\n",
    "        \n",
    "        row = df[df['series_description'] == 'Sagittal T1']\n",
    "        dirs = glob(f\"{comp_dir}/test_images/{row['study_id'].iloc[0]}/{row['series_id'].iloc[0]}/**\")\n",
    "        dirs.sort(key=keyFunc)\n",
    "        num_files = len(dirs)\n",
    "        if num_files < 10:\n",
    "            img = self._fetch_images(dirs)\n",
    "            img = zoom(img,(1,1,10/img.shape[2]))\n",
    "        else:\n",
    "            interval_len = num_files/10\n",
    "            indexes = [int(np.floor(i*interval_len)) for i in range(10)]\n",
    "            dirs = [dirs[index] for index in indexes]\n",
    "            img = self._fetch_images(dirs)\n",
    "        ret_img.append(img)\n",
    "            \n",
    "        row = df[df['series_description'] == 'Sagittal T2/STIR']\n",
    "        dirs = glob(f\"{comp_dir}/test_images/{row['study_id'].iloc[0]}/{row['series_id'].iloc[0]}/**\")\n",
    "        dirs.sort(key=keyFunc)\n",
    "        num_files = len(dirs)\n",
    "        if num_files < 10:\n",
    "            img = self._fetch_images(dirs)\n",
    "            img = zoom(img,(1,1,10/img.shape[2]))\n",
    "        else:\n",
    "            interval_len = num_files/10\n",
    "            indexes = [int(np.floor(i*interval_len)) for i in range(10)]\n",
    "            dirs = [dirs[index] for index in indexes]\n",
    "            img = self._fetch_images(dirs)\n",
    "        ret_img.append(img)\n",
    "        \n",
    "        ret_img = np.concatenate(ret_img,axis=2)\n",
    "        \n",
    "        if self.transform is not None:\n",
    "            ret_img = self.transform(image=ret_img)['image']\n",
    "        \n",
    "        return np.transpose(ret_img, (2,0,1)), str(study_id)"
   ]
  },
  {
   "cell_type": "code",
   "execution_count": 6,
   "id": "68e80b48",
   "metadata": {
    "execution": {
     "iopub.execute_input": "2024-08-06T11:11:58.378799Z",
     "iopub.status.busy": "2024-08-06T11:11:58.378542Z",
     "iopub.status.idle": "2024-08-06T11:11:58.382969Z",
     "shell.execute_reply": "2024-08-06T11:11:58.382179Z"
    },
    "papermill": {
     "duration": 0.011547,
     "end_time": "2024-08-06T11:11:58.384855",
     "exception": false,
     "start_time": "2024-08-06T11:11:58.373308",
     "status": "completed"
    },
    "tags": []
   },
   "outputs": [],
   "source": [
    "transforms_test = A.Compose([\n",
    "    A.Resize(512,512),\n",
    "    A.Normalize(mean=0.5,std=0.5)\n",
    "])"
   ]
  },
  {
   "cell_type": "code",
   "execution_count": 7,
   "id": "a0d4ea93",
   "metadata": {
    "execution": {
     "iopub.execute_input": "2024-08-06T11:11:58.394803Z",
     "iopub.status.busy": "2024-08-06T11:11:58.394547Z",
     "iopub.status.idle": "2024-08-06T11:11:58.399373Z",
     "shell.execute_reply": "2024-08-06T11:11:58.398536Z"
    },
    "papermill": {
     "duration": 0.011924,
     "end_time": "2024-08-06T11:11:58.401245",
     "exception": false,
     "start_time": "2024-08-06T11:11:58.389321",
     "status": "completed"
    },
    "tags": []
   },
   "outputs": [],
   "source": [
    "test_dataset = RSNA24TestDataset(test_series_descriptions,study_ids,transform=transforms_test)\n",
    "test_dl = DataLoader(test_dataset, \n",
    "    batch_size=1, \n",
    "    shuffle=False,\n",
    "    num_workers=os.cpu_count(),\n",
    "    pin_memory=True,\n",
    "    drop_last=False)"
   ]
  },
  {
   "cell_type": "code",
   "execution_count": 8,
   "id": "12383d32",
   "metadata": {
    "execution": {
     "iopub.execute_input": "2024-08-06T11:11:58.411317Z",
     "iopub.status.busy": "2024-08-06T11:11:58.410677Z",
     "iopub.status.idle": "2024-08-06T11:11:58.415964Z",
     "shell.execute_reply": "2024-08-06T11:11:58.415138Z"
    },
    "papermill": {
     "duration": 0.012217,
     "end_time": "2024-08-06T11:11:58.417853",
     "exception": false,
     "start_time": "2024-08-06T11:11:58.405636",
     "status": "completed"
    },
    "tags": []
   },
   "outputs": [],
   "source": [
    "class RSNAModel(nn.Module):\n",
    "    def __init__(self,in_c,n_classes):\n",
    "        super(RSNAModel,self).__init__()\n",
    "        self.encoder = timm.create_model(\"convnext_small\",\n",
    "                                        in_chans = in_c,\n",
    "                                        num_classes = n_classes,\n",
    "                                        pretrained=False)\n",
    "    def forward(self,x):\n",
    "        x = self.encoder(x)\n",
    "        return x"
   ]
  },
  {
   "cell_type": "code",
   "execution_count": 9,
   "id": "2b649a82",
   "metadata": {
    "execution": {
     "iopub.execute_input": "2024-08-06T11:11:58.427848Z",
     "iopub.status.busy": "2024-08-06T11:11:58.427592Z",
     "iopub.status.idle": "2024-08-06T11:12:11.053443Z",
     "shell.execute_reply": "2024-08-06T11:12:11.052642Z"
    },
    "papermill": {
     "duration": 12.633541,
     "end_time": "2024-08-06T11:12:11.055937",
     "exception": false,
     "start_time": "2024-08-06T11:11:58.422396",
     "status": "completed"
    },
    "tags": []
   },
   "outputs": [],
   "source": [
    "models = []\n",
    "model_pths = glob(\"/kaggle/input/rsna-lsdc-part-2/rsna24-results/best_wll_model_fold-*.pt\")\n",
    "for i, path in enumerate(model_pths):\n",
    "    model = RSNAModel(30, 75)\n",
    "    model.load_state_dict(torch.load(path))\n",
    "    model.eval()\n",
    "    model.to(device)\n",
    "    models.append(model)"
   ]
  },
  {
   "cell_type": "code",
   "execution_count": 10,
   "id": "b86596f1",
   "metadata": {
    "execution": {
     "iopub.execute_input": "2024-08-06T11:12:11.066817Z",
     "iopub.status.busy": "2024-08-06T11:12:11.066532Z",
     "iopub.status.idle": "2024-08-06T11:12:11.071436Z",
     "shell.execute_reply": "2024-08-06T11:12:11.070603Z"
    },
    "papermill": {
     "duration": 0.012425,
     "end_time": "2024-08-06T11:12:11.073397",
     "exception": false,
     "start_time": "2024-08-06T11:12:11.060972",
     "status": "completed"
    },
    "tags": []
   },
   "outputs": [],
   "source": [
    "CONDITIONS = [\n",
    "    'spinal_canal_stenosis', \n",
    "    'left_neural_foraminal_narrowing', \n",
    "    'right_neural_foraminal_narrowing',\n",
    "    'left_subarticular_stenosis',\n",
    "    'right_subarticular_stenosis'\n",
    "]\n",
    "\n",
    "LEVELS = [\n",
    "    'l1_l2',\n",
    "    'l2_l3',\n",
    "    'l3_l4',\n",
    "    'l4_l5',\n",
    "    'l5_s1',\n",
    "]\n",
    "\n",
    "n_labels = 25"
   ]
  },
  {
   "cell_type": "code",
   "execution_count": 11,
   "id": "5dd7328a",
   "metadata": {
    "execution": {
     "iopub.execute_input": "2024-08-06T11:12:11.083669Z",
     "iopub.status.busy": "2024-08-06T11:12:11.083412Z",
     "iopub.status.idle": "2024-08-06T11:12:13.232880Z",
     "shell.execute_reply": "2024-08-06T11:12:13.231790Z"
    },
    "papermill": {
     "duration": 2.157233,
     "end_time": "2024-08-06T11:12:13.235294",
     "exception": false,
     "start_time": "2024-08-06T11:12:11.078061",
     "status": "completed"
    },
    "tags": []
   },
   "outputs": [
    {
     "name": "stderr",
     "output_type": "stream",
     "text": [
      "100%|██████████| 1/1 [00:02<00:00,  2.14s/it]\n"
     ]
    }
   ],
   "source": [
    "y_preds = []\n",
    "row_names = []\n",
    "\n",
    "with tqdm(test_dl, leave=True) as pbar:\n",
    "    with torch.no_grad():\n",
    "        for idx, (x, si) in enumerate(pbar):\n",
    "            x = x.to('cuda').float()\n",
    "            pred_per_study = np.zeros((25,3))\n",
    "            for cond in CONDITIONS:\n",
    "                for level in LEVELS:\n",
    "                    row_names.append(si[0] + \"_\" + cond + '_' + level)\n",
    "                \n",
    "            for m in models:\n",
    "                y = m(x)[0]\n",
    "                for col in range(n_labels):\n",
    "                    pred = y[col*3:col*3+3]\n",
    "                    y_pred = pred.float().softmax(0).cpu().numpy()\n",
    "                    pred_per_study[col] += y_pred/len(models)\n",
    "            y_preds.append(pred_per_study)\n",
    "\n",
    "y_preds = np.concatenate(y_preds, axis=0)"
   ]
  },
  {
   "cell_type": "code",
   "execution_count": 12,
   "id": "f3cc8fc4",
   "metadata": {
    "execution": {
     "iopub.execute_input": "2024-08-06T11:12:13.246673Z",
     "iopub.status.busy": "2024-08-06T11:12:13.246348Z",
     "iopub.status.idle": "2024-08-06T11:12:13.256104Z",
     "shell.execute_reply": "2024-08-06T11:12:13.255065Z"
    },
    "papermill": {
     "duration": 0.01785,
     "end_time": "2024-08-06T11:12:13.258144",
     "exception": false,
     "start_time": "2024-08-06T11:12:13.240294",
     "status": "completed"
    },
    "tags": []
   },
   "outputs": [],
   "source": [
    "LABELS = ['normal_mild', 'moderate', 'severe']\n",
    "sub = pd.DataFrame()\n",
    "sub['row_id'] = row_names\n",
    "sub[LABELS] = y_preds"
   ]
  },
  {
   "cell_type": "code",
   "execution_count": 13,
   "id": "4554c054",
   "metadata": {
    "execution": {
     "iopub.execute_input": "2024-08-06T11:12:13.269041Z",
     "iopub.status.busy": "2024-08-06T11:12:13.268765Z",
     "iopub.status.idle": "2024-08-06T11:12:13.288587Z",
     "shell.execute_reply": "2024-08-06T11:12:13.287652Z"
    },
    "papermill": {
     "duration": 0.027495,
     "end_time": "2024-08-06T11:12:13.290510",
     "exception": false,
     "start_time": "2024-08-06T11:12:13.263015",
     "status": "completed"
    },
    "tags": []
   },
   "outputs": [
    {
     "data": {
      "text/html": [
       "<div>\n",
       "<style scoped>\n",
       "    .dataframe tbody tr th:only-of-type {\n",
       "        vertical-align: middle;\n",
       "    }\n",
       "\n",
       "    .dataframe tbody tr th {\n",
       "        vertical-align: top;\n",
       "    }\n",
       "\n",
       "    .dataframe thead th {\n",
       "        text-align: right;\n",
       "    }\n",
       "</style>\n",
       "<table border=\"1\" class=\"dataframe\">\n",
       "  <thead>\n",
       "    <tr style=\"text-align: right;\">\n",
       "      <th></th>\n",
       "      <th>row_id</th>\n",
       "      <th>normal_mild</th>\n",
       "      <th>moderate</th>\n",
       "      <th>severe</th>\n",
       "    </tr>\n",
       "  </thead>\n",
       "  <tbody>\n",
       "    <tr>\n",
       "      <th>0</th>\n",
       "      <td>44036939_spinal_canal_stenosis_l1_l2</td>\n",
       "      <td>0.002514</td>\n",
       "      <td>0.200490</td>\n",
       "      <td>0.796996</td>\n",
       "    </tr>\n",
       "    <tr>\n",
       "      <th>1</th>\n",
       "      <td>44036939_spinal_canal_stenosis_l2_l3</td>\n",
       "      <td>0.025970</td>\n",
       "      <td>0.306551</td>\n",
       "      <td>0.667478</td>\n",
       "    </tr>\n",
       "    <tr>\n",
       "      <th>2</th>\n",
       "      <td>44036939_spinal_canal_stenosis_l3_l4</td>\n",
       "      <td>0.066357</td>\n",
       "      <td>0.510091</td>\n",
       "      <td>0.423552</td>\n",
       "    </tr>\n",
       "    <tr>\n",
       "      <th>3</th>\n",
       "      <td>44036939_spinal_canal_stenosis_l4_l5</td>\n",
       "      <td>0.102749</td>\n",
       "      <td>0.650451</td>\n",
       "      <td>0.246799</td>\n",
       "    </tr>\n",
       "    <tr>\n",
       "      <th>4</th>\n",
       "      <td>44036939_spinal_canal_stenosis_l5_s1</td>\n",
       "      <td>0.002026</td>\n",
       "      <td>0.283956</td>\n",
       "      <td>0.714019</td>\n",
       "    </tr>\n",
       "    <tr>\n",
       "      <th>5</th>\n",
       "      <td>44036939_left_neural_foraminal_narrowing_l1_l2</td>\n",
       "      <td>0.000081</td>\n",
       "      <td>0.003821</td>\n",
       "      <td>0.996098</td>\n",
       "    </tr>\n",
       "    <tr>\n",
       "      <th>6</th>\n",
       "      <td>44036939_left_neural_foraminal_narrowing_l2_l3</td>\n",
       "      <td>0.002115</td>\n",
       "      <td>0.012614</td>\n",
       "      <td>0.985271</td>\n",
       "    </tr>\n",
       "    <tr>\n",
       "      <th>7</th>\n",
       "      <td>44036939_left_neural_foraminal_narrowing_l3_l4</td>\n",
       "      <td>0.019595</td>\n",
       "      <td>0.047626</td>\n",
       "      <td>0.932779</td>\n",
       "    </tr>\n",
       "    <tr>\n",
       "      <th>8</th>\n",
       "      <td>44036939_left_neural_foraminal_narrowing_l4_l5</td>\n",
       "      <td>0.100027</td>\n",
       "      <td>0.123859</td>\n",
       "      <td>0.776114</td>\n",
       "    </tr>\n",
       "    <tr>\n",
       "      <th>9</th>\n",
       "      <td>44036939_left_neural_foraminal_narrowing_l5_s1</td>\n",
       "      <td>0.157681</td>\n",
       "      <td>0.373463</td>\n",
       "      <td>0.468855</td>\n",
       "    </tr>\n",
       "    <tr>\n",
       "      <th>10</th>\n",
       "      <td>44036939_right_neural_foraminal_narrowing_l1_l2</td>\n",
       "      <td>0.000870</td>\n",
       "      <td>0.064006</td>\n",
       "      <td>0.935124</td>\n",
       "    </tr>\n",
       "    <tr>\n",
       "      <th>11</th>\n",
       "      <td>44036939_right_neural_foraminal_narrowing_l2_l3</td>\n",
       "      <td>0.001078</td>\n",
       "      <td>0.005189</td>\n",
       "      <td>0.993733</td>\n",
       "    </tr>\n",
       "    <tr>\n",
       "      <th>12</th>\n",
       "      <td>44036939_right_neural_foraminal_narrowing_l3_l4</td>\n",
       "      <td>0.019564</td>\n",
       "      <td>0.050999</td>\n",
       "      <td>0.929437</td>\n",
       "    </tr>\n",
       "    <tr>\n",
       "      <th>13</th>\n",
       "      <td>44036939_right_neural_foraminal_narrowing_l4_l5</td>\n",
       "      <td>0.166728</td>\n",
       "      <td>0.224813</td>\n",
       "      <td>0.608460</td>\n",
       "    </tr>\n",
       "    <tr>\n",
       "      <th>14</th>\n",
       "      <td>44036939_right_neural_foraminal_narrowing_l5_s1</td>\n",
       "      <td>0.162150</td>\n",
       "      <td>0.212509</td>\n",
       "      <td>0.625340</td>\n",
       "    </tr>\n",
       "    <tr>\n",
       "      <th>15</th>\n",
       "      <td>44036939_left_subarticular_stenosis_l1_l2</td>\n",
       "      <td>0.006416</td>\n",
       "      <td>0.186596</td>\n",
       "      <td>0.806988</td>\n",
       "    </tr>\n",
       "    <tr>\n",
       "      <th>16</th>\n",
       "      <td>44036939_left_subarticular_stenosis_l2_l3</td>\n",
       "      <td>0.073992</td>\n",
       "      <td>0.232024</td>\n",
       "      <td>0.693985</td>\n",
       "    </tr>\n",
       "    <tr>\n",
       "      <th>17</th>\n",
       "      <td>44036939_left_subarticular_stenosis_l3_l4</td>\n",
       "      <td>0.170756</td>\n",
       "      <td>0.345554</td>\n",
       "      <td>0.483690</td>\n",
       "    </tr>\n",
       "    <tr>\n",
       "      <th>18</th>\n",
       "      <td>44036939_left_subarticular_stenosis_l4_l5</td>\n",
       "      <td>0.373534</td>\n",
       "      <td>0.420106</td>\n",
       "      <td>0.206360</td>\n",
       "    </tr>\n",
       "    <tr>\n",
       "      <th>19</th>\n",
       "      <td>44036939_left_subarticular_stenosis_l5_s1</td>\n",
       "      <td>0.118023</td>\n",
       "      <td>0.243470</td>\n",
       "      <td>0.638507</td>\n",
       "    </tr>\n",
       "    <tr>\n",
       "      <th>20</th>\n",
       "      <td>44036939_right_subarticular_stenosis_l1_l2</td>\n",
       "      <td>0.003075</td>\n",
       "      <td>0.046111</td>\n",
       "      <td>0.950814</td>\n",
       "    </tr>\n",
       "    <tr>\n",
       "      <th>21</th>\n",
       "      <td>44036939_right_subarticular_stenosis_l2_l3</td>\n",
       "      <td>0.024243</td>\n",
       "      <td>0.107507</td>\n",
       "      <td>0.868250</td>\n",
       "    </tr>\n",
       "    <tr>\n",
       "      <th>22</th>\n",
       "      <td>44036939_right_subarticular_stenosis_l3_l4</td>\n",
       "      <td>0.235919</td>\n",
       "      <td>0.319028</td>\n",
       "      <td>0.445052</td>\n",
       "    </tr>\n",
       "    <tr>\n",
       "      <th>23</th>\n",
       "      <td>44036939_right_subarticular_stenosis_l4_l5</td>\n",
       "      <td>0.444548</td>\n",
       "      <td>0.343423</td>\n",
       "      <td>0.212029</td>\n",
       "    </tr>\n",
       "    <tr>\n",
       "      <th>24</th>\n",
       "      <td>44036939_right_subarticular_stenosis_l5_s1</td>\n",
       "      <td>0.201490</td>\n",
       "      <td>0.297678</td>\n",
       "      <td>0.500832</td>\n",
       "    </tr>\n",
       "  </tbody>\n",
       "</table>\n",
       "</div>"
      ],
      "text/plain": [
       "                                             row_id  normal_mild  moderate  \\\n",
       "0              44036939_spinal_canal_stenosis_l1_l2     0.002514  0.200490   \n",
       "1              44036939_spinal_canal_stenosis_l2_l3     0.025970  0.306551   \n",
       "2              44036939_spinal_canal_stenosis_l3_l4     0.066357  0.510091   \n",
       "3              44036939_spinal_canal_stenosis_l4_l5     0.102749  0.650451   \n",
       "4              44036939_spinal_canal_stenosis_l5_s1     0.002026  0.283956   \n",
       "5    44036939_left_neural_foraminal_narrowing_l1_l2     0.000081  0.003821   \n",
       "6    44036939_left_neural_foraminal_narrowing_l2_l3     0.002115  0.012614   \n",
       "7    44036939_left_neural_foraminal_narrowing_l3_l4     0.019595  0.047626   \n",
       "8    44036939_left_neural_foraminal_narrowing_l4_l5     0.100027  0.123859   \n",
       "9    44036939_left_neural_foraminal_narrowing_l5_s1     0.157681  0.373463   \n",
       "10  44036939_right_neural_foraminal_narrowing_l1_l2     0.000870  0.064006   \n",
       "11  44036939_right_neural_foraminal_narrowing_l2_l3     0.001078  0.005189   \n",
       "12  44036939_right_neural_foraminal_narrowing_l3_l4     0.019564  0.050999   \n",
       "13  44036939_right_neural_foraminal_narrowing_l4_l5     0.166728  0.224813   \n",
       "14  44036939_right_neural_foraminal_narrowing_l5_s1     0.162150  0.212509   \n",
       "15        44036939_left_subarticular_stenosis_l1_l2     0.006416  0.186596   \n",
       "16        44036939_left_subarticular_stenosis_l2_l3     0.073992  0.232024   \n",
       "17        44036939_left_subarticular_stenosis_l3_l4     0.170756  0.345554   \n",
       "18        44036939_left_subarticular_stenosis_l4_l5     0.373534  0.420106   \n",
       "19        44036939_left_subarticular_stenosis_l5_s1     0.118023  0.243470   \n",
       "20       44036939_right_subarticular_stenosis_l1_l2     0.003075  0.046111   \n",
       "21       44036939_right_subarticular_stenosis_l2_l3     0.024243  0.107507   \n",
       "22       44036939_right_subarticular_stenosis_l3_l4     0.235919  0.319028   \n",
       "23       44036939_right_subarticular_stenosis_l4_l5     0.444548  0.343423   \n",
       "24       44036939_right_subarticular_stenosis_l5_s1     0.201490  0.297678   \n",
       "\n",
       "      severe  \n",
       "0   0.796996  \n",
       "1   0.667478  \n",
       "2   0.423552  \n",
       "3   0.246799  \n",
       "4   0.714019  \n",
       "5   0.996098  \n",
       "6   0.985271  \n",
       "7   0.932779  \n",
       "8   0.776114  \n",
       "9   0.468855  \n",
       "10  0.935124  \n",
       "11  0.993733  \n",
       "12  0.929437  \n",
       "13  0.608460  \n",
       "14  0.625340  \n",
       "15  0.806988  \n",
       "16  0.693985  \n",
       "17  0.483690  \n",
       "18  0.206360  \n",
       "19  0.638507  \n",
       "20  0.950814  \n",
       "21  0.868250  \n",
       "22  0.445052  \n",
       "23  0.212029  \n",
       "24  0.500832  "
      ]
     },
     "execution_count": 13,
     "metadata": {},
     "output_type": "execute_result"
    }
   ],
   "source": [
    "sub"
   ]
  },
  {
   "cell_type": "code",
   "execution_count": 14,
   "id": "7d63eaf9",
   "metadata": {
    "execution": {
     "iopub.execute_input": "2024-08-06T11:12:13.301946Z",
     "iopub.status.busy": "2024-08-06T11:12:13.301682Z",
     "iopub.status.idle": "2024-08-06T11:12:13.308045Z",
     "shell.execute_reply": "2024-08-06T11:12:13.307239Z"
    },
    "papermill": {
     "duration": 0.014281,
     "end_time": "2024-08-06T11:12:13.310019",
     "exception": false,
     "start_time": "2024-08-06T11:12:13.295738",
     "status": "completed"
    },
    "tags": []
   },
   "outputs": [],
   "source": [
    "sub.to_csv('submission.csv',index=False)"
   ]
  }
 ],
 "metadata": {
  "kaggle": {
   "accelerator": "gpu",
   "dataSources": [
    {
     "databundleVersionId": 8561470,
     "sourceId": 71549,
     "sourceType": "competition"
    },
    {
     "sourceId": 190190156,
     "sourceType": "kernelVersion"
    },
    {
     "sourceId": 191098637,
     "sourceType": "kernelVersion"
    }
   ],
   "dockerImageVersionId": 30747,
   "isGpuEnabled": true,
   "isInternetEnabled": false,
   "language": "python",
   "sourceType": "notebook"
  },
  "kernelspec": {
   "display_name": "Python 3",
   "language": "python",
   "name": "python3"
  },
  "language_info": {
   "codemirror_mode": {
    "name": "ipython",
    "version": 3
   },
   "file_extension": ".py",
   "mimetype": "text/x-python",
   "name": "python",
   "nbconvert_exporter": "python",
   "pygments_lexer": "ipython3",
   "version": "3.10.13"
  },
  "papermill": {
   "default_parameters": {},
   "duration": 29.191217,
   "end_time": "2024-08-06T11:12:15.790487",
   "environment_variables": {},
   "exception": null,
   "input_path": "__notebook__.ipynb",
   "output_path": "__notebook__.ipynb",
   "parameters": {},
   "start_time": "2024-08-06T11:11:46.599270",
   "version": "2.5.0"
  }
 },
 "nbformat": 4,
 "nbformat_minor": 5
}
