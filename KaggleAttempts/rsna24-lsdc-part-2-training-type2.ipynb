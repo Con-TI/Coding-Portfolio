{
 "cells": [
  {
   "cell_type": "code",
   "execution_count": 1,
   "id": "53d44f07",
   "metadata": {
    "_cell_guid": "b1076dfc-b9ad-4769-8c92-a6c4dae69d19",
    "_uuid": "8f2839f25d086af736a60e9eeb907d3b93b6e0e5",
    "execution": {
     "iopub.execute_input": "2024-07-28T17:45:39.337456Z",
     "iopub.status.busy": "2024-07-28T17:45:39.337103Z",
     "iopub.status.idle": "2024-07-28T17:45:48.093259Z",
     "shell.execute_reply": "2024-07-28T17:45:48.092337Z"
    },
    "papermill": {
     "duration": 8.764466,
     "end_time": "2024-07-28T17:45:48.095669",
     "exception": false,
     "start_time": "2024-07-28T17:45:39.331203",
     "status": "completed"
    },
    "tags": []
   },
   "outputs": [],
   "source": [
    "import pandas as pd\n",
    "import numpy as np\n",
    "import cv2\n",
    "from tqdm import tqdm\n",
    "from glob import glob\n",
    "from scipy.ndimage import zoom\n",
    "from torch.utils.data import Dataset,DataLoader\n",
    "import albumentations as A\n",
    "import torch\n",
    "import torch.nn as nn\n",
    "import timm\n",
    "from sklearn.model_selection import KFold\n",
    "import math\n",
    "import os"
   ]
  },
  {
   "cell_type": "code",
   "execution_count": 2,
   "id": "791cc7f7",
   "metadata": {
    "execution": {
     "iopub.execute_input": "2024-07-28T17:45:48.106114Z",
     "iopub.status.busy": "2024-07-28T17:45:48.105349Z",
     "iopub.status.idle": "2024-07-28T17:45:48.109374Z",
     "shell.execute_reply": "2024-07-28T17:45:48.108550Z"
    },
    "papermill": {
     "duration": 0.011002,
     "end_time": "2024-07-28T17:45:48.111202",
     "exception": false,
     "start_time": "2024-07-28T17:45:48.100200",
     "status": "completed"
    },
    "tags": []
   },
   "outputs": [],
   "source": [
    "path = \"/kaggle/input/rsna2024-lsdc-part-1-eda-and-preparing-data\""
   ]
  },
  {
   "cell_type": "code",
   "execution_count": 3,
   "id": "91ea3196",
   "metadata": {
    "execution": {
     "iopub.execute_input": "2024-07-28T17:45:48.120649Z",
     "iopub.status.busy": "2024-07-28T17:45:48.120108Z",
     "iopub.status.idle": "2024-07-28T17:45:48.182739Z",
     "shell.execute_reply": "2024-07-28T17:45:48.181595Z"
    },
    "papermill": {
     "duration": 0.069405,
     "end_time": "2024-07-28T17:45:48.184837",
     "exception": false,
     "start_time": "2024-07-28T17:45:48.115432",
     "status": "completed"
    },
    "tags": []
   },
   "outputs": [],
   "source": [
    "device = \"cuda\" if torch.cuda.is_available() else \"cpu\""
   ]
  },
  {
   "cell_type": "code",
   "execution_count": 4,
   "id": "8a6be1ce",
   "metadata": {
    "execution": {
     "iopub.execute_input": "2024-07-28T17:45:48.195349Z",
     "iopub.status.busy": "2024-07-28T17:45:48.194757Z",
     "iopub.status.idle": "2024-07-28T17:45:48.199266Z",
     "shell.execute_reply": "2024-07-28T17:45:48.198387Z"
    },
    "papermill": {
     "duration": 0.011706,
     "end_time": "2024-07-28T17:45:48.201362",
     "exception": false,
     "start_time": "2024-07-28T17:45:48.189656",
     "status": "completed"
    },
    "tags": []
   },
   "outputs": [],
   "source": [
    "comp_dir = \"/kaggle/input/rsna-2024-lumbar-spine-degenerative-classification\"\n",
    "image_dir = f\"{path}/cvt_png\"\n",
    "pd.set_option('future.no_silent_downcasting', True)"
   ]
  },
  {
   "cell_type": "markdown",
   "id": "adb59980",
   "metadata": {
    "papermill": {
     "duration": 0.00406,
     "end_time": "2024-07-28T17:45:48.209737",
     "exception": false,
     "start_time": "2024-07-28T17:45:48.205677",
     "status": "completed"
    },
    "tags": []
   },
   "source": [
    "# Part 2.1 Dataset and Augs"
   ]
  },
  {
   "cell_type": "code",
   "execution_count": 5,
   "id": "596dafd3",
   "metadata": {
    "execution": {
     "iopub.execute_input": "2024-07-28T17:45:48.219751Z",
     "iopub.status.busy": "2024-07-28T17:45:48.219066Z",
     "iopub.status.idle": "2024-07-28T17:45:48.382780Z",
     "shell.execute_reply": "2024-07-28T17:45:48.381961Z"
    },
    "papermill": {
     "duration": 0.170966,
     "end_time": "2024-07-28T17:45:48.385074",
     "exception": false,
     "start_time": "2024-07-28T17:45:48.214108",
     "status": "completed"
    },
    "tags": []
   },
   "outputs": [],
   "source": [
    "train_y = pd.read_csv(f'{comp_dir}/train.csv')\n",
    "study_ids = [int(study_id) for study_id in os.listdir(image_dir)]\n",
    "train_y = train_y[train_y['study_id'].isin(study_ids)].reset_index(drop=True)\n",
    "mapping = {\"Normal/Mild\":0,\"Moderate\":1,\"Severe\":2}\n",
    "train_y = train_y.replace(mapping)"
   ]
  },
  {
   "cell_type": "code",
   "execution_count": 6,
   "id": "34b89760",
   "metadata": {
    "execution": {
     "iopub.execute_input": "2024-07-28T17:45:48.395568Z",
     "iopub.status.busy": "2024-07-28T17:45:48.395227Z",
     "iopub.status.idle": "2024-07-28T17:45:48.411852Z",
     "shell.execute_reply": "2024-07-28T17:45:48.411008Z"
    },
    "papermill": {
     "duration": 0.024101,
     "end_time": "2024-07-28T17:45:48.413805",
     "exception": false,
     "start_time": "2024-07-28T17:45:48.389704",
     "status": "completed"
    },
    "tags": []
   },
   "outputs": [],
   "source": [
    "class RSNADataset(Dataset):\n",
    "    def __init__(self,df:pd.DataFrame, transform=None):\n",
    "        self.df = df\n",
    "        self.transform = transform\n",
    "        \n",
    "    def __len__(self):\n",
    "        return len(self.df)\n",
    "    \n",
    "    def __getitem__(self,idx):\n",
    "        study_id = self.df.iloc[idx,0]\n",
    "        label = self.df.iloc[idx,1:].values.astype(np.int64)\n",
    "        \n",
    "        ret_image = []\n",
    "        \n",
    "        parent_path = f\"{path}/cvt_png/{study_id}/Axial T2/\"\n",
    "        if len(os.listdir(parent_path))<20:\n",
    "            image = [cv2.imread(image_dir,-1) for image_dir in glob(f\"{parent_path}**\")]\n",
    "            image = np.transpose(np.stack(image),(1,2,0)).astype(np.uint8)\n",
    "            image = zoom(image,(1,1,20/image.shape[2]))\n",
    "        else:\n",
    "            image = [cv2.imread(image_dir,-1) for image_dir in glob(f\"{parent_path}**\")]\n",
    "            image = np.transpose(np.stack(image),(1,2,0)).astype(np.uint8)\n",
    "        ret_image.append(image)    \n",
    "        \n",
    "        parent_path = f\"{path}/cvt_png/{study_id}/Sagittal T1/\"\n",
    "        if len(os.listdir(parent_path))<10:\n",
    "            image = [cv2.imread(image_dir,-1) for image_dir in glob(f\"{parent_path}**\")]\n",
    "            image = np.transpose(np.stack(image),(1,2,0)).astype(np.uint8)\n",
    "            image = zoom(image,(1,1,10/image.shape[2]))\n",
    "        else:\n",
    "            image = [cv2.imread(image_dir,-1) for image_dir in glob(f\"{parent_path}**\")]\n",
    "            image = np.transpose(np.stack(image),(1,2,0)).astype(np.uint8)\n",
    "        ret_image.append(image)\n",
    "        \n",
    "        parent_path = f\"{path}/cvt_png/{study_id}/Sagittal T2/\"\n",
    "        if len(os.listdir(parent_path))<10:\n",
    "            image = [cv2.imread(image_dir,-1) for image_dir in glob(f\"{parent_path}**\")]\n",
    "            image = np.transpose(np.stack(image),(1,2,0)).astype(np.uint8)\n",
    "            image = zoom(image,(1,1,10/image.shape[2]))\n",
    "        else:\n",
    "            image = [cv2.imread(image_dir,-1) for image_dir in glob(f\"{parent_path}**\")]\n",
    "            image = np.transpose(np.stack(image),(1,2,0)).astype(np.uint8)\n",
    "        ret_image.append(image)\n",
    "\n",
    "        ret_image = np.concatenate(ret_image, axis=2)\n",
    "        \n",
    "        if self.transform is not None:\n",
    "            image = self.transform(image=ret_image)['image']\n",
    "        \n",
    "        ret_image = ret_image.transpose(2,0,1)\n",
    "        \n",
    "        return ret_image, label"
   ]
  },
  {
   "cell_type": "code",
   "execution_count": 7,
   "id": "67640d70",
   "metadata": {
    "execution": {
     "iopub.execute_input": "2024-07-28T17:45:48.424211Z",
     "iopub.status.busy": "2024-07-28T17:45:48.423382Z",
     "iopub.status.idle": "2024-07-28T17:45:48.732378Z",
     "shell.execute_reply": "2024-07-28T17:45:48.731467Z"
    },
    "papermill": {
     "duration": 0.316525,
     "end_time": "2024-07-28T17:45:48.734684",
     "exception": false,
     "start_time": "2024-07-28T17:45:48.418159",
     "status": "completed"
    },
    "tags": []
   },
   "outputs": [
    {
     "name": "stdout",
     "output_type": "stream",
     "text": [
      "(40, 224, 224)\n"
     ]
    }
   ],
   "source": [
    "# Test\n",
    "ret, label  = RSNADataset(train_y).__getitem__(1)\n",
    "print(ret.shape)\n",
    "del ret, label"
   ]
  },
  {
   "cell_type": "code",
   "execution_count": 8,
   "id": "d4fdb5ea",
   "metadata": {
    "execution": {
     "iopub.execute_input": "2024-07-28T17:45:48.745278Z",
     "iopub.status.busy": "2024-07-28T17:45:48.744983Z",
     "iopub.status.idle": "2024-07-28T17:45:48.754872Z",
     "shell.execute_reply": "2024-07-28T17:45:48.753788Z"
    },
    "papermill": {
     "duration": 0.017241,
     "end_time": "2024-07-28T17:45:48.756847",
     "exception": false,
     "start_time": "2024-07-28T17:45:48.739606",
     "status": "completed"
    },
    "tags": []
   },
   "outputs": [
    {
     "name": "stderr",
     "output_type": "stream",
     "text": [
      "/opt/conda/lib/python3.10/site-packages/albumentations/augmentations/blur/transforms.py:180: UserWarning: blur_limit and sigma_limit minimum value can not be both equal to 0. blur_limit minimum value changed to 3.\n",
      "  warnings.warn(\n"
     ]
    }
   ],
   "source": [
    "transforms_train = A.Compose([\n",
    "    A.ShiftScaleRotate(shift_limit=0.1, scale_limit=0.1, rotate_limit=10, border_mode=0, p=0.7),\n",
    "    A.RandomBrightnessContrast(p=0.7),\n",
    "    A.OneOf([\n",
    "        A.MotionBlur(blur_limit=5),\n",
    "        A.MedianBlur(blur_limit=5),\n",
    "        A.GaussianBlur(blur_limit=5),\n",
    "        A.GaussNoise(var_limit=(5.0, 30.0)),\n",
    "    ], p=0.7),\n",
    "    A.OneOf([\n",
    "        A.OpticalDistortion(),\n",
    "        A.GridDistortion(),\n",
    "        A.ElasticTransform(),\n",
    "    ], p=0.7),\n",
    "    A.CoarseDropout(max_holes=8, max_height=32, max_width=32, min_holes=1, min_height=8, min_width=8, p=0.5),\n",
    "#     A.CLAHE(clip_limit=4.0,p=0.7),\n",
    "    A.Resize(224,224),\n",
    "    A.Normalize(mean=0.5,std=0.5)\n",
    "])"
   ]
  },
  {
   "cell_type": "code",
   "execution_count": 9,
   "id": "37272624",
   "metadata": {
    "execution": {
     "iopub.execute_input": "2024-07-28T17:45:48.767495Z",
     "iopub.status.busy": "2024-07-28T17:45:48.767165Z",
     "iopub.status.idle": "2024-07-28T17:45:48.771482Z",
     "shell.execute_reply": "2024-07-28T17:45:48.770754Z"
    },
    "papermill": {
     "duration": 0.011972,
     "end_time": "2024-07-28T17:45:48.773363",
     "exception": false,
     "start_time": "2024-07-28T17:45:48.761391",
     "status": "completed"
    },
    "tags": []
   },
   "outputs": [],
   "source": [
    "if not os.path.exists('rsna24-results'):\n",
    "    os.makedirs('rsna24-results')       "
   ]
  },
  {
   "cell_type": "markdown",
   "id": "bf5e9da4",
   "metadata": {
    "papermill": {
     "duration": 0.004275,
     "end_time": "2024-07-28T17:45:48.782222",
     "exception": false,
     "start_time": "2024-07-28T17:45:48.777947",
     "status": "completed"
    },
    "tags": []
   },
   "source": [
    "# Part 2.2 Model"
   ]
  },
  {
   "cell_type": "code",
   "execution_count": 10,
   "id": "7f6a11fd",
   "metadata": {
    "execution": {
     "iopub.execute_input": "2024-07-28T17:45:48.792546Z",
     "iopub.status.busy": "2024-07-28T17:45:48.792245Z",
     "iopub.status.idle": "2024-07-28T17:45:48.799155Z",
     "shell.execute_reply": "2024-07-28T17:45:48.798364Z"
    },
    "papermill": {
     "duration": 0.014345,
     "end_time": "2024-07-28T17:45:48.801063",
     "exception": false,
     "start_time": "2024-07-28T17:45:48.786718",
     "status": "completed"
    },
    "tags": []
   },
   "outputs": [],
   "source": [
    "class RSNAModel(nn.Module):\n",
    "    def __init__(self,in_c,n_classes):\n",
    "        super(RSNAModel,self).__init__()\n",
    "        self.encoder = timm.create_model(\"resnet18\",\n",
    "                                        in_chans = in_c,\n",
    "                                        num_classes = 0,\n",
    "                                        pretrained=False)\n",
    "        self.encoder.fc = nn.Identity()\n",
    "        \n",
    "        self.lstm = nn.LSTM(512, 256, 3, bidirectional=True, batch_first=True)\n",
    "        self.head = nn.Sequential(\n",
    "            nn.Linear(512,256),\n",
    "            nn.Dropout(0.3),\n",
    "            nn.LeakyReLU(0.1),\n",
    "            nn.Linear(256,n_classes)\n",
    "        )        \n",
    "    def forward(self,x):\n",
    "        x = self.encoder(x)\n",
    "        x, _ = self.lstm(x)\n",
    "        x = self.head(x)\n",
    "        return x"
   ]
  },
  {
   "cell_type": "code",
   "execution_count": 11,
   "id": "243c00f1",
   "metadata": {
    "execution": {
     "iopub.execute_input": "2024-07-28T17:45:48.811227Z",
     "iopub.status.busy": "2024-07-28T17:45:48.810970Z",
     "iopub.status.idle": "2024-07-28T17:45:48.826372Z",
     "shell.execute_reply": "2024-07-28T17:45:48.825734Z"
    },
    "papermill": {
     "duration": 0.022606,
     "end_time": "2024-07-28T17:45:48.828242",
     "exception": false,
     "start_time": "2024-07-28T17:45:48.805636",
     "status": "completed"
    },
    "tags": []
   },
   "outputs": [],
   "source": [
    "# Gradient Scaler\n",
    "scaler = torch.cuda.amp.GradScaler(init_scale=4096)\n",
    "\n",
    "# K Fold Cross Validation\n",
    "skf = KFold(n_splits=4, shuffle=True, random_state=8)\n",
    "\n",
    "# Weights for training\n",
    "weights = torch.tensor([1.0,3.0,10.0])\n",
    "\n",
    "num_epochs = 40"
   ]
  },
  {
   "cell_type": "markdown",
   "id": "6e7f35b3",
   "metadata": {
    "papermill": {
     "duration": 0.004574,
     "end_time": "2024-07-28T17:45:48.837499",
     "exception": false,
     "start_time": "2024-07-28T17:45:48.832925",
     "status": "completed"
    },
    "tags": []
   },
   "source": [
    "# Part 2.3 Training"
   ]
  },
  {
   "cell_type": "code",
   "execution_count": 12,
   "id": "e59b310d",
   "metadata": {
    "execution": {
     "iopub.execute_input": "2024-07-28T17:45:48.848052Z",
     "iopub.status.busy": "2024-07-28T17:45:48.847777Z",
     "iopub.status.idle": "2024-07-28T21:32:51.402240Z",
     "shell.execute_reply": "2024-07-28T21:32:51.401284Z"
    },
    "papermill": {
     "duration": 13622.562336,
     "end_time": "2024-07-28T21:32:51.404389",
     "exception": false,
     "start_time": "2024-07-28T17:45:48.842053",
     "status": "completed"
    },
    "tags": []
   },
   "outputs": [
    {
     "name": "stderr",
     "output_type": "stream",
     "text": [
      "100%|██████████| 336/336 [08:06<00:00,  1.45s/it]\n"
     ]
    },
    {
     "name": "stdout",
     "output_type": "stream",
     "text": [
      "train_loss: 0.850750\n"
     ]
    },
    {
     "name": "stderr",
     "output_type": "stream",
     "text": [
      "100%|██████████| 448/448 [02:49<00:00,  2.64it/s]\n"
     ]
    },
    {
     "name": "stdout",
     "output_type": "stream",
     "text": [
      "val_loss: 0.666255, val_wll: 1.038749\n",
      "epoch: 1, best loss updated from 10.000000 to 0.666255\n",
      "epoch: 1, best wll_metric updated from 10.000000 to 1.038749\n"
     ]
    },
    {
     "name": "stderr",
     "output_type": "stream",
     "text": [
      "100%|██████████| 336/336 [03:03<00:00,  1.83it/s]\n"
     ]
    },
    {
     "name": "stdout",
     "output_type": "stream",
     "text": [
      "train_loss: 0.819541\n"
     ]
    },
    {
     "name": "stderr",
     "output_type": "stream",
     "text": [
      "100%|██████████| 448/448 [01:03<00:00,  7.04it/s]\n"
     ]
    },
    {
     "name": "stdout",
     "output_type": "stream",
     "text": [
      "val_loss: 0.670233, val_wll: 1.026076\n",
      "epoch: 2, best wll_metric updated from 1.038749 to 1.026076\n"
     ]
    },
    {
     "name": "stderr",
     "output_type": "stream",
     "text": [
      "100%|██████████| 336/336 [03:00<00:00,  1.86it/s]\n"
     ]
    },
    {
     "name": "stdout",
     "output_type": "stream",
     "text": [
      "train_loss: 0.817695\n"
     ]
    },
    {
     "name": "stderr",
     "output_type": "stream",
     "text": [
      "100%|██████████| 448/448 [01:00<00:00,  7.37it/s]\n"
     ]
    },
    {
     "name": "stdout",
     "output_type": "stream",
     "text": [
      "val_loss: 0.654940, val_wll: 1.039246\n",
      "epoch: 3, best loss updated from 0.666255 to 0.654940\n"
     ]
    },
    {
     "name": "stderr",
     "output_type": "stream",
     "text": [
      "100%|██████████| 336/336 [03:02<00:00,  1.84it/s]\n"
     ]
    },
    {
     "name": "stdout",
     "output_type": "stream",
     "text": [
      "train_loss: 0.810666\n"
     ]
    },
    {
     "name": "stderr",
     "output_type": "stream",
     "text": [
      "100%|██████████| 448/448 [01:02<00:00,  7.13it/s]\n"
     ]
    },
    {
     "name": "stdout",
     "output_type": "stream",
     "text": [
      "val_loss: 0.656660, val_wll: 1.039581\n"
     ]
    },
    {
     "name": "stderr",
     "output_type": "stream",
     "text": [
      "100%|██████████| 336/336 [03:01<00:00,  1.85it/s]\n"
     ]
    },
    {
     "name": "stdout",
     "output_type": "stream",
     "text": [
      "train_loss: 0.810403\n"
     ]
    },
    {
     "name": "stderr",
     "output_type": "stream",
     "text": [
      "100%|██████████| 448/448 [01:02<00:00,  7.14it/s]\n"
     ]
    },
    {
     "name": "stdout",
     "output_type": "stream",
     "text": [
      "val_loss: 0.652022, val_wll: 1.045124\n",
      "epoch: 5, best loss updated from 0.654940 to 0.652022\n"
     ]
    },
    {
     "name": "stderr",
     "output_type": "stream",
     "text": [
      "100%|██████████| 336/336 [03:03<00:00,  1.83it/s]\n"
     ]
    },
    {
     "name": "stdout",
     "output_type": "stream",
     "text": [
      "train_loss: 0.811192\n"
     ]
    },
    {
     "name": "stderr",
     "output_type": "stream",
     "text": [
      "100%|██████████| 448/448 [01:01<00:00,  7.32it/s]\n"
     ]
    },
    {
     "name": "stdout",
     "output_type": "stream",
     "text": [
      "val_loss: 0.651085, val_wll: 1.060523\n",
      "epoch: 6, best loss updated from 0.652022 to 0.651085\n"
     ]
    },
    {
     "name": "stderr",
     "output_type": "stream",
     "text": [
      "100%|██████████| 336/336 [02:58<00:00,  1.88it/s]\n"
     ]
    },
    {
     "name": "stdout",
     "output_type": "stream",
     "text": [
      "train_loss: 0.813242\n"
     ]
    },
    {
     "name": "stderr",
     "output_type": "stream",
     "text": [
      "100%|██████████| 448/448 [01:00<00:00,  7.35it/s]\n"
     ]
    },
    {
     "name": "stdout",
     "output_type": "stream",
     "text": [
      "val_loss: 0.645831, val_wll: 1.059536\n",
      "epoch: 7, best loss updated from 0.651085 to 0.645831\n"
     ]
    },
    {
     "name": "stderr",
     "output_type": "stream",
     "text": [
      "100%|██████████| 336/336 [03:02<00:00,  1.84it/s]\n"
     ]
    },
    {
     "name": "stdout",
     "output_type": "stream",
     "text": [
      "train_loss: 0.811456\n"
     ]
    },
    {
     "name": "stderr",
     "output_type": "stream",
     "text": [
      "100%|██████████| 448/448 [01:03<00:00,  7.06it/s]\n"
     ]
    },
    {
     "name": "stdout",
     "output_type": "stream",
     "text": [
      "val_loss: 0.653102, val_wll: 1.049292\n"
     ]
    },
    {
     "name": "stderr",
     "output_type": "stream",
     "text": [
      "100%|██████████| 336/336 [03:02<00:00,  1.84it/s]\n"
     ]
    },
    {
     "name": "stdout",
     "output_type": "stream",
     "text": [
      "train_loss: 0.812176\n"
     ]
    },
    {
     "name": "stderr",
     "output_type": "stream",
     "text": [
      "100%|██████████| 448/448 [01:00<00:00,  7.35it/s]\n"
     ]
    },
    {
     "name": "stdout",
     "output_type": "stream",
     "text": [
      "val_loss: 0.660324, val_wll: 1.040800\n"
     ]
    },
    {
     "name": "stderr",
     "output_type": "stream",
     "text": [
      "100%|██████████| 336/336 [03:03<00:00,  1.83it/s]\n"
     ]
    },
    {
     "name": "stdout",
     "output_type": "stream",
     "text": [
      "train_loss: 0.813983\n"
     ]
    },
    {
     "name": "stderr",
     "output_type": "stream",
     "text": [
      "100%|██████████| 448/448 [00:59<00:00,  7.52it/s]\n"
     ]
    },
    {
     "name": "stdout",
     "output_type": "stream",
     "text": [
      "val_loss: 0.645594, val_wll: 1.061666\n",
      "epoch: 10, best loss updated from 0.645831 to 0.645594\n"
     ]
    },
    {
     "name": "stderr",
     "output_type": "stream",
     "text": [
      "100%|██████████| 336/336 [02:59<00:00,  1.87it/s]\n"
     ]
    },
    {
     "name": "stdout",
     "output_type": "stream",
     "text": [
      "train_loss: 0.810210\n"
     ]
    },
    {
     "name": "stderr",
     "output_type": "stream",
     "text": [
      "100%|██████████| 448/448 [00:59<00:00,  7.50it/s]\n"
     ]
    },
    {
     "name": "stdout",
     "output_type": "stream",
     "text": [
      "val_loss: 0.651643, val_wll: 1.048604\n"
     ]
    },
    {
     "name": "stderr",
     "output_type": "stream",
     "text": [
      "100%|██████████| 336/336 [03:00<00:00,  1.87it/s]\n"
     ]
    },
    {
     "name": "stdout",
     "output_type": "stream",
     "text": [
      "train_loss: 0.809147\n"
     ]
    },
    {
     "name": "stderr",
     "output_type": "stream",
     "text": [
      "100%|██████████| 448/448 [01:02<00:00,  7.22it/s]\n"
     ]
    },
    {
     "name": "stdout",
     "output_type": "stream",
     "text": [
      "val_loss: 0.648377, val_wll: 1.052347\n"
     ]
    },
    {
     "name": "stderr",
     "output_type": "stream",
     "text": [
      "100%|██████████| 336/336 [02:57<00:00,  1.89it/s]\n"
     ]
    },
    {
     "name": "stdout",
     "output_type": "stream",
     "text": [
      "train_loss: 0.808444\n"
     ]
    },
    {
     "name": "stderr",
     "output_type": "stream",
     "text": [
      "100%|██████████| 448/448 [00:58<00:00,  7.60it/s]\n"
     ]
    },
    {
     "name": "stdout",
     "output_type": "stream",
     "text": [
      "val_loss: 0.640855, val_wll: 1.060712\n",
      "epoch: 13, best loss updated from 0.645594 to 0.640855\n"
     ]
    },
    {
     "name": "stderr",
     "output_type": "stream",
     "text": [
      "100%|██████████| 336/336 [02:55<00:00,  1.92it/s]\n"
     ]
    },
    {
     "name": "stdout",
     "output_type": "stream",
     "text": [
      "train_loss: 0.808583\n"
     ]
    },
    {
     "name": "stderr",
     "output_type": "stream",
     "text": [
      "100%|██████████| 448/448 [01:02<00:00,  7.13it/s]\n"
     ]
    },
    {
     "name": "stdout",
     "output_type": "stream",
     "text": [
      "val_loss: 0.649102, val_wll: 1.051403\n"
     ]
    },
    {
     "name": "stderr",
     "output_type": "stream",
     "text": [
      "100%|██████████| 336/336 [02:58<00:00,  1.89it/s]\n"
     ]
    },
    {
     "name": "stdout",
     "output_type": "stream",
     "text": [
      "train_loss: 0.806590\n"
     ]
    },
    {
     "name": "stderr",
     "output_type": "stream",
     "text": [
      "100%|██████████| 448/448 [01:01<00:00,  7.34it/s]\n"
     ]
    },
    {
     "name": "stdout",
     "output_type": "stream",
     "text": [
      "val_loss: 0.650156, val_wll: 1.047414\n"
     ]
    },
    {
     "name": "stderr",
     "output_type": "stream",
     "text": [
      "100%|██████████| 336/336 [02:52<00:00,  1.94it/s]\n"
     ]
    },
    {
     "name": "stdout",
     "output_type": "stream",
     "text": [
      "train_loss: 0.807089\n"
     ]
    },
    {
     "name": "stderr",
     "output_type": "stream",
     "text": [
      "100%|██████████| 448/448 [01:00<00:00,  7.41it/s]\n"
     ]
    },
    {
     "name": "stdout",
     "output_type": "stream",
     "text": [
      "val_loss: 0.651823, val_wll: 1.051511\n",
      "early stopping\n"
     ]
    },
    {
     "name": "stderr",
     "output_type": "stream",
     "text": [
      "100%|██████████| 336/336 [02:54<00:00,  1.93it/s]\n"
     ]
    },
    {
     "name": "stdout",
     "output_type": "stream",
     "text": [
      "train_loss: 0.835485\n"
     ]
    },
    {
     "name": "stderr",
     "output_type": "stream",
     "text": [
      "100%|██████████| 447/447 [00:59<00:00,  7.52it/s]\n"
     ]
    },
    {
     "name": "stdout",
     "output_type": "stream",
     "text": [
      "val_loss: 0.652913, val_wll: 1.047600\n",
      "epoch: 1, best loss updated from 10.000000 to 0.652913\n",
      "epoch: 1, best wll_metric updated from 10.000000 to 1.047600\n"
     ]
    },
    {
     "name": "stderr",
     "output_type": "stream",
     "text": [
      "100%|██████████| 336/336 [03:01<00:00,  1.85it/s]\n"
     ]
    },
    {
     "name": "stdout",
     "output_type": "stream",
     "text": [
      "train_loss: 0.816526\n"
     ]
    },
    {
     "name": "stderr",
     "output_type": "stream",
     "text": [
      "100%|██████████| 447/447 [01:00<00:00,  7.37it/s]\n"
     ]
    },
    {
     "name": "stdout",
     "output_type": "stream",
     "text": [
      "val_loss: 0.660442, val_wll: 1.026529\n",
      "epoch: 2, best wll_metric updated from 1.047600 to 1.026529\n"
     ]
    },
    {
     "name": "stderr",
     "output_type": "stream",
     "text": [
      "100%|██████████| 336/336 [03:01<00:00,  1.85it/s]\n"
     ]
    },
    {
     "name": "stdout",
     "output_type": "stream",
     "text": [
      "train_loss: 0.808652\n"
     ]
    },
    {
     "name": "stderr",
     "output_type": "stream",
     "text": [
      "100%|██████████| 447/447 [00:58<00:00,  7.68it/s]\n"
     ]
    },
    {
     "name": "stdout",
     "output_type": "stream",
     "text": [
      "val_loss: 0.658806, val_wll: 1.016414\n",
      "epoch: 3, best wll_metric updated from 1.026529 to 1.016414\n"
     ]
    },
    {
     "name": "stderr",
     "output_type": "stream",
     "text": [
      "100%|██████████| 336/336 [03:00<00:00,  1.86it/s]\n"
     ]
    },
    {
     "name": "stdout",
     "output_type": "stream",
     "text": [
      "train_loss: 0.808654\n"
     ]
    },
    {
     "name": "stderr",
     "output_type": "stream",
     "text": [
      "100%|██████████| 447/447 [00:59<00:00,  7.48it/s]\n"
     ]
    },
    {
     "name": "stdout",
     "output_type": "stream",
     "text": [
      "val_loss: 0.658932, val_wll: 1.012819\n",
      "epoch: 4, best wll_metric updated from 1.016414 to 1.012819\n"
     ]
    },
    {
     "name": "stderr",
     "output_type": "stream",
     "text": [
      "100%|██████████| 336/336 [03:01<00:00,  1.85it/s]\n"
     ]
    },
    {
     "name": "stdout",
     "output_type": "stream",
     "text": [
      "train_loss: 0.807055\n"
     ]
    },
    {
     "name": "stderr",
     "output_type": "stream",
     "text": [
      "100%|██████████| 447/447 [00:59<00:00,  7.54it/s]\n"
     ]
    },
    {
     "name": "stdout",
     "output_type": "stream",
     "text": [
      "val_loss: 0.668674, val_wll: 1.008791\n",
      "epoch: 5, best wll_metric updated from 1.012819 to 1.008791\n"
     ]
    },
    {
     "name": "stderr",
     "output_type": "stream",
     "text": [
      "100%|██████████| 336/336 [02:58<00:00,  1.88it/s]\n"
     ]
    },
    {
     "name": "stdout",
     "output_type": "stream",
     "text": [
      "train_loss: 0.807999\n"
     ]
    },
    {
     "name": "stderr",
     "output_type": "stream",
     "text": [
      "100%|██████████| 447/447 [01:00<00:00,  7.37it/s]\n"
     ]
    },
    {
     "name": "stdout",
     "output_type": "stream",
     "text": [
      "val_loss: 0.665307, val_wll: 1.011990\n"
     ]
    },
    {
     "name": "stderr",
     "output_type": "stream",
     "text": [
      "100%|██████████| 336/336 [03:02<00:00,  1.85it/s]\n"
     ]
    },
    {
     "name": "stdout",
     "output_type": "stream",
     "text": [
      "train_loss: 0.809103\n"
     ]
    },
    {
     "name": "stderr",
     "output_type": "stream",
     "text": [
      "100%|██████████| 447/447 [00:59<00:00,  7.57it/s]\n"
     ]
    },
    {
     "name": "stdout",
     "output_type": "stream",
     "text": [
      "val_loss: 0.668645, val_wll: 1.008918\n"
     ]
    },
    {
     "name": "stderr",
     "output_type": "stream",
     "text": [
      "100%|██████████| 336/336 [03:03<00:00,  1.83it/s]\n"
     ]
    },
    {
     "name": "stdout",
     "output_type": "stream",
     "text": [
      "train_loss: 0.806653\n"
     ]
    },
    {
     "name": "stderr",
     "output_type": "stream",
     "text": [
      "100%|██████████| 447/447 [01:03<00:00,  7.09it/s]\n"
     ]
    },
    {
     "name": "stdout",
     "output_type": "stream",
     "text": [
      "val_loss: 0.670073, val_wll: 1.006775\n",
      "epoch: 8, best wll_metric updated from 1.008791 to 1.006775\n"
     ]
    },
    {
     "name": "stderr",
     "output_type": "stream",
     "text": [
      "100%|██████████| 336/336 [02:59<00:00,  1.88it/s]\n"
     ]
    },
    {
     "name": "stdout",
     "output_type": "stream",
     "text": [
      "train_loss: 0.831636\n"
     ]
    },
    {
     "name": "stderr",
     "output_type": "stream",
     "text": [
      "100%|██████████| 447/447 [00:59<00:00,  7.52it/s]\n"
     ]
    },
    {
     "name": "stdout",
     "output_type": "stream",
     "text": [
      "val_loss: 0.695003, val_wll: 1.039011\n"
     ]
    },
    {
     "name": "stderr",
     "output_type": "stream",
     "text": [
      "100%|██████████| 336/336 [03:01<00:00,  1.85it/s]\n"
     ]
    },
    {
     "name": "stdout",
     "output_type": "stream",
     "text": [
      "train_loss: 0.838705\n"
     ]
    },
    {
     "name": "stderr",
     "output_type": "stream",
     "text": [
      "100%|██████████| 447/447 [01:00<00:00,  7.36it/s]\n"
     ]
    },
    {
     "name": "stdout",
     "output_type": "stream",
     "text": [
      "val_loss: 0.647818, val_wll: 1.042713\n",
      "epoch: 10, best loss updated from 0.652913 to 0.647818\n"
     ]
    },
    {
     "name": "stderr",
     "output_type": "stream",
     "text": [
      "100%|██████████| 336/336 [02:55<00:00,  1.91it/s]\n"
     ]
    },
    {
     "name": "stdout",
     "output_type": "stream",
     "text": [
      "train_loss: 0.826069\n"
     ]
    },
    {
     "name": "stderr",
     "output_type": "stream",
     "text": [
      "100%|██████████| 447/447 [01:00<00:00,  7.41it/s]\n"
     ]
    },
    {
     "name": "stdout",
     "output_type": "stream",
     "text": [
      "val_loss: 0.661105, val_wll: 1.020572\n"
     ]
    },
    {
     "name": "stderr",
     "output_type": "stream",
     "text": [
      "100%|██████████| 336/336 [02:59<00:00,  1.87it/s]\n"
     ]
    },
    {
     "name": "stdout",
     "output_type": "stream",
     "text": [
      "train_loss: 0.821267\n"
     ]
    },
    {
     "name": "stderr",
     "output_type": "stream",
     "text": [
      "100%|██████████| 447/447 [01:01<00:00,  7.28it/s]\n"
     ]
    },
    {
     "name": "stdout",
     "output_type": "stream",
     "text": [
      "val_loss: 0.653769, val_wll: 1.030317\n"
     ]
    },
    {
     "name": "stderr",
     "output_type": "stream",
     "text": [
      "100%|██████████| 336/336 [03:00<00:00,  1.86it/s]\n"
     ]
    },
    {
     "name": "stdout",
     "output_type": "stream",
     "text": [
      "train_loss: 0.816631\n"
     ]
    },
    {
     "name": "stderr",
     "output_type": "stream",
     "text": [
      "100%|██████████| 447/447 [00:58<00:00,  7.64it/s]\n"
     ]
    },
    {
     "name": "stdout",
     "output_type": "stream",
     "text": [
      "val_loss: 0.651170, val_wll: 1.023355\n",
      "early stopping\n"
     ]
    },
    {
     "name": "stderr",
     "output_type": "stream",
     "text": [
      "100%|██████████| 336/336 [02:57<00:00,  1.89it/s]\n"
     ]
    },
    {
     "name": "stdout",
     "output_type": "stream",
     "text": [
      "train_loss: 0.838188\n"
     ]
    },
    {
     "name": "stderr",
     "output_type": "stream",
     "text": [
      "100%|██████████| 447/447 [01:00<00:00,  7.35it/s]\n"
     ]
    },
    {
     "name": "stdout",
     "output_type": "stream",
     "text": [
      "val_loss: 0.635824, val_wll: 1.033930\n",
      "epoch: 1, best loss updated from 10.000000 to 0.635824\n",
      "epoch: 1, best wll_metric updated from 10.000000 to 1.033930\n"
     ]
    },
    {
     "name": "stderr",
     "output_type": "stream",
     "text": [
      "100%|██████████| 336/336 [02:56<00:00,  1.91it/s]\n"
     ]
    },
    {
     "name": "stdout",
     "output_type": "stream",
     "text": [
      "train_loss: 0.811516\n"
     ]
    },
    {
     "name": "stderr",
     "output_type": "stream",
     "text": [
      "100%|██████████| 447/447 [00:58<00:00,  7.65it/s]\n"
     ]
    },
    {
     "name": "stdout",
     "output_type": "stream",
     "text": [
      "val_loss: 0.639083, val_wll: 1.025914\n",
      "epoch: 2, best wll_metric updated from 1.033930 to 1.025914\n"
     ]
    },
    {
     "name": "stderr",
     "output_type": "stream",
     "text": [
      "100%|██████████| 336/336 [02:54<00:00,  1.93it/s]\n"
     ]
    },
    {
     "name": "stdout",
     "output_type": "stream",
     "text": [
      "train_loss: 0.810334\n"
     ]
    },
    {
     "name": "stderr",
     "output_type": "stream",
     "text": [
      "100%|██████████| 447/447 [01:00<00:00,  7.42it/s]\n"
     ]
    },
    {
     "name": "stdout",
     "output_type": "stream",
     "text": [
      "val_loss: 0.635739, val_wll: 1.029668\n",
      "epoch: 3, best loss updated from 0.635824 to 0.635739\n"
     ]
    },
    {
     "name": "stderr",
     "output_type": "stream",
     "text": [
      "100%|██████████| 336/336 [03:00<00:00,  1.87it/s]\n"
     ]
    },
    {
     "name": "stdout",
     "output_type": "stream",
     "text": [
      "train_loss: 0.809286\n"
     ]
    },
    {
     "name": "stderr",
     "output_type": "stream",
     "text": [
      "100%|██████████| 447/447 [00:59<00:00,  7.50it/s]\n"
     ]
    },
    {
     "name": "stdout",
     "output_type": "stream",
     "text": [
      "val_loss: 0.640699, val_wll: 1.024688\n",
      "epoch: 4, best wll_metric updated from 1.025914 to 1.024688\n"
     ]
    },
    {
     "name": "stderr",
     "output_type": "stream",
     "text": [
      "100%|██████████| 336/336 [02:58<00:00,  1.88it/s]\n"
     ]
    },
    {
     "name": "stdout",
     "output_type": "stream",
     "text": [
      "train_loss: 0.806498\n"
     ]
    },
    {
     "name": "stderr",
     "output_type": "stream",
     "text": [
      "100%|██████████| 447/447 [00:59<00:00,  7.48it/s]\n"
     ]
    },
    {
     "name": "stdout",
     "output_type": "stream",
     "text": [
      "val_loss: 0.633033, val_wll: 1.036090\n",
      "epoch: 5, best loss updated from 0.635739 to 0.633033\n"
     ]
    },
    {
     "name": "stderr",
     "output_type": "stream",
     "text": [
      "100%|██████████| 336/336 [03:00<00:00,  1.87it/s]\n"
     ]
    },
    {
     "name": "stdout",
     "output_type": "stream",
     "text": [
      "train_loss: 0.803726\n"
     ]
    },
    {
     "name": "stderr",
     "output_type": "stream",
     "text": [
      "100%|██████████| 447/447 [00:59<00:00,  7.50it/s]\n"
     ]
    },
    {
     "name": "stdout",
     "output_type": "stream",
     "text": [
      "val_loss: 0.642756, val_wll: 1.014553\n",
      "epoch: 6, best wll_metric updated from 1.024688 to 1.014553\n"
     ]
    },
    {
     "name": "stderr",
     "output_type": "stream",
     "text": [
      "100%|██████████| 336/336 [02:57<00:00,  1.90it/s]\n"
     ]
    },
    {
     "name": "stdout",
     "output_type": "stream",
     "text": [
      "train_loss: 0.802897\n"
     ]
    },
    {
     "name": "stderr",
     "output_type": "stream",
     "text": [
      "100%|██████████| 447/447 [01:00<00:00,  7.44it/s]\n"
     ]
    },
    {
     "name": "stdout",
     "output_type": "stream",
     "text": [
      "val_loss: 0.637560, val_wll: 1.026306\n"
     ]
    },
    {
     "name": "stderr",
     "output_type": "stream",
     "text": [
      "100%|██████████| 336/336 [02:59<00:00,  1.87it/s]\n"
     ]
    },
    {
     "name": "stdout",
     "output_type": "stream",
     "text": [
      "train_loss: 0.804176\n"
     ]
    },
    {
     "name": "stderr",
     "output_type": "stream",
     "text": [
      "100%|██████████| 447/447 [00:58<00:00,  7.62it/s]\n"
     ]
    },
    {
     "name": "stdout",
     "output_type": "stream",
     "text": [
      "val_loss: 0.640961, val_wll: 1.019452\n"
     ]
    },
    {
     "name": "stderr",
     "output_type": "stream",
     "text": [
      "100%|██████████| 336/336 [02:56<00:00,  1.90it/s]\n"
     ]
    },
    {
     "name": "stdout",
     "output_type": "stream",
     "text": [
      "train_loss: 0.801590\n"
     ]
    },
    {
     "name": "stderr",
     "output_type": "stream",
     "text": [
      "100%|██████████| 447/447 [00:57<00:00,  7.73it/s]\n"
     ]
    },
    {
     "name": "stdout",
     "output_type": "stream",
     "text": [
      "val_loss: 0.639729, val_wll: 1.020349\n",
      "early stopping\n"
     ]
    },
    {
     "name": "stderr",
     "output_type": "stream",
     "text": [
      "100%|██████████| 336/336 [03:05<00:00,  1.82it/s]\n"
     ]
    },
    {
     "name": "stdout",
     "output_type": "stream",
     "text": [
      "train_loss: 0.832602\n"
     ]
    },
    {
     "name": "stderr",
     "output_type": "stream",
     "text": [
      "100%|██████████| 447/447 [01:00<00:00,  7.41it/s]\n"
     ]
    },
    {
     "name": "stdout",
     "output_type": "stream",
     "text": [
      "val_loss: 0.645243, val_wll: 1.143071\n",
      "epoch: 1, best loss updated from 10.000000 to 0.645243\n",
      "epoch: 1, best wll_metric updated from 10.000000 to 1.143071\n"
     ]
    },
    {
     "name": "stderr",
     "output_type": "stream",
     "text": [
      "100%|██████████| 336/336 [02:56<00:00,  1.90it/s]\n"
     ]
    },
    {
     "name": "stdout",
     "output_type": "stream",
     "text": [
      "train_loss: 0.810867\n"
     ]
    },
    {
     "name": "stderr",
     "output_type": "stream",
     "text": [
      "100%|██████████| 447/447 [01:00<00:00,  7.38it/s]\n"
     ]
    },
    {
     "name": "stdout",
     "output_type": "stream",
     "text": [
      "val_loss: 0.647718, val_wll: 1.108133\n",
      "epoch: 2, best wll_metric updated from 1.143071 to 1.108133\n"
     ]
    },
    {
     "name": "stderr",
     "output_type": "stream",
     "text": [
      "100%|██████████| 336/336 [03:00<00:00,  1.86it/s]\n"
     ]
    },
    {
     "name": "stdout",
     "output_type": "stream",
     "text": [
      "train_loss: 0.806725\n"
     ]
    },
    {
     "name": "stderr",
     "output_type": "stream",
     "text": [
      "100%|██████████| 447/447 [00:57<00:00,  7.77it/s]\n"
     ]
    },
    {
     "name": "stdout",
     "output_type": "stream",
     "text": [
      "val_loss: 0.649705, val_wll: 1.128668\n"
     ]
    },
    {
     "name": "stderr",
     "output_type": "stream",
     "text": [
      "100%|██████████| 336/336 [02:58<00:00,  1.89it/s]\n"
     ]
    },
    {
     "name": "stdout",
     "output_type": "stream",
     "text": [
      "train_loss: 0.804079\n"
     ]
    },
    {
     "name": "stderr",
     "output_type": "stream",
     "text": [
      "100%|██████████| 447/447 [00:57<00:00,  7.74it/s]\n"
     ]
    },
    {
     "name": "stdout",
     "output_type": "stream",
     "text": [
      "val_loss: 0.644774, val_wll: 1.096835\n",
      "epoch: 4, best loss updated from 0.645243 to 0.644774\n",
      "epoch: 4, best wll_metric updated from 1.108133 to 1.096835\n"
     ]
    },
    {
     "name": "stderr",
     "output_type": "stream",
     "text": [
      "100%|██████████| 336/336 [02:56<00:00,  1.90it/s]\n"
     ]
    },
    {
     "name": "stdout",
     "output_type": "stream",
     "text": [
      "train_loss: 0.801638\n"
     ]
    },
    {
     "name": "stderr",
     "output_type": "stream",
     "text": [
      "100%|██████████| 447/447 [00:58<00:00,  7.67it/s]\n"
     ]
    },
    {
     "name": "stdout",
     "output_type": "stream",
     "text": [
      "val_loss: 0.647557, val_wll: 1.104710\n"
     ]
    },
    {
     "name": "stderr",
     "output_type": "stream",
     "text": [
      "100%|██████████| 336/336 [02:56<00:00,  1.90it/s]\n"
     ]
    },
    {
     "name": "stdout",
     "output_type": "stream",
     "text": [
      "train_loss: 0.800485\n"
     ]
    },
    {
     "name": "stderr",
     "output_type": "stream",
     "text": [
      "100%|██████████| 447/447 [01:01<00:00,  7.24it/s]\n"
     ]
    },
    {
     "name": "stdout",
     "output_type": "stream",
     "text": [
      "val_loss: 0.652372, val_wll: 1.073746\n",
      "epoch: 6, best wll_metric updated from 1.096835 to 1.073746\n"
     ]
    },
    {
     "name": "stderr",
     "output_type": "stream",
     "text": [
      "100%|██████████| 336/336 [03:03<00:00,  1.83it/s]\n"
     ]
    },
    {
     "name": "stdout",
     "output_type": "stream",
     "text": [
      "train_loss: 0.800356\n"
     ]
    },
    {
     "name": "stderr",
     "output_type": "stream",
     "text": [
      "100%|██████████| 447/447 [00:57<00:00,  7.73it/s]\n"
     ]
    },
    {
     "name": "stdout",
     "output_type": "stream",
     "text": [
      "val_loss: 0.654061, val_wll: 1.069893\n",
      "epoch: 7, best wll_metric updated from 1.073746 to 1.069893\n"
     ]
    },
    {
     "name": "stderr",
     "output_type": "stream",
     "text": [
      "100%|██████████| 336/336 [02:58<00:00,  1.88it/s]\n"
     ]
    },
    {
     "name": "stdout",
     "output_type": "stream",
     "text": [
      "train_loss: 0.797799\n"
     ]
    },
    {
     "name": "stderr",
     "output_type": "stream",
     "text": [
      "100%|██████████| 447/447 [00:59<00:00,  7.48it/s]\n"
     ]
    },
    {
     "name": "stdout",
     "output_type": "stream",
     "text": [
      "val_loss: 0.654772, val_wll: 1.071568\n"
     ]
    },
    {
     "name": "stderr",
     "output_type": "stream",
     "text": [
      "100%|██████████| 336/336 [02:54<00:00,  1.93it/s]\n"
     ]
    },
    {
     "name": "stdout",
     "output_type": "stream",
     "text": [
      "train_loss: 0.797584\n"
     ]
    },
    {
     "name": "stderr",
     "output_type": "stream",
     "text": [
      "100%|██████████| 447/447 [00:59<00:00,  7.54it/s]\n"
     ]
    },
    {
     "name": "stdout",
     "output_type": "stream",
     "text": [
      "val_loss: 0.651262, val_wll: 1.076146\n"
     ]
    },
    {
     "name": "stderr",
     "output_type": "stream",
     "text": [
      "100%|██████████| 336/336 [02:58<00:00,  1.88it/s]\n"
     ]
    },
    {
     "name": "stdout",
     "output_type": "stream",
     "text": [
      "train_loss: 0.797248\n"
     ]
    },
    {
     "name": "stderr",
     "output_type": "stream",
     "text": [
      "100%|██████████| 447/447 [00:58<00:00,  7.65it/s]\n"
     ]
    },
    {
     "name": "stdout",
     "output_type": "stream",
     "text": [
      "val_loss: 0.655322, val_wll: 1.062122\n",
      "epoch: 10, best wll_metric updated from 1.069893 to 1.062122\n"
     ]
    },
    {
     "name": "stderr",
     "output_type": "stream",
     "text": [
      "100%|██████████| 336/336 [03:01<00:00,  1.85it/s]\n"
     ]
    },
    {
     "name": "stdout",
     "output_type": "stream",
     "text": [
      "train_loss: 0.798165\n"
     ]
    },
    {
     "name": "stderr",
     "output_type": "stream",
     "text": [
      "100%|██████████| 447/447 [00:58<00:00,  7.60it/s]\n"
     ]
    },
    {
     "name": "stdout",
     "output_type": "stream",
     "text": [
      "val_loss: 0.660487, val_wll: 1.057681\n",
      "epoch: 11, best wll_metric updated from 1.062122 to 1.057681\n"
     ]
    },
    {
     "name": "stderr",
     "output_type": "stream",
     "text": [
      "100%|██████████| 336/336 [02:59<00:00,  1.87it/s]\n"
     ]
    },
    {
     "name": "stdout",
     "output_type": "stream",
     "text": [
      "train_loss: 0.805952\n"
     ]
    },
    {
     "name": "stderr",
     "output_type": "stream",
     "text": [
      "100%|██████████| 447/447 [00:59<00:00,  7.51it/s]\n"
     ]
    },
    {
     "name": "stdout",
     "output_type": "stream",
     "text": [
      "val_loss: 0.653382, val_wll: 1.117050\n"
     ]
    },
    {
     "name": "stderr",
     "output_type": "stream",
     "text": [
      "100%|██████████| 336/336 [02:58<00:00,  1.88it/s]\n"
     ]
    },
    {
     "name": "stdout",
     "output_type": "stream",
     "text": [
      "train_loss: 0.819752\n"
     ]
    },
    {
     "name": "stderr",
     "output_type": "stream",
     "text": [
      "100%|██████████| 447/447 [00:58<00:00,  7.58it/s]\n"
     ]
    },
    {
     "name": "stdout",
     "output_type": "stream",
     "text": [
      "val_loss: 0.644378, val_wll: 1.106303\n",
      "epoch: 13, best loss updated from 0.644774 to 0.644378\n"
     ]
    },
    {
     "name": "stderr",
     "output_type": "stream",
     "text": [
      "100%|██████████| 336/336 [02:57<00:00,  1.89it/s]\n"
     ]
    },
    {
     "name": "stdout",
     "output_type": "stream",
     "text": [
      "train_loss: 0.810617\n"
     ]
    },
    {
     "name": "stderr",
     "output_type": "stream",
     "text": [
      "100%|██████████| 447/447 [00:58<00:00,  7.66it/s]\n"
     ]
    },
    {
     "name": "stdout",
     "output_type": "stream",
     "text": [
      "val_loss: 0.640277, val_wll: 1.120474\n",
      "epoch: 14, best loss updated from 0.644378 to 0.640277\n"
     ]
    },
    {
     "name": "stderr",
     "output_type": "stream",
     "text": [
      "100%|██████████| 336/336 [02:58<00:00,  1.88it/s]\n"
     ]
    },
    {
     "name": "stdout",
     "output_type": "stream",
     "text": [
      "train_loss: 0.807823\n"
     ]
    },
    {
     "name": "stderr",
     "output_type": "stream",
     "text": [
      "100%|██████████| 447/447 [01:00<00:00,  7.39it/s]\n"
     ]
    },
    {
     "name": "stdout",
     "output_type": "stream",
     "text": [
      "val_loss: 0.650736, val_wll: 1.092726\n"
     ]
    },
    {
     "name": "stderr",
     "output_type": "stream",
     "text": [
      "100%|██████████| 336/336 [03:08<00:00,  1.78it/s]\n"
     ]
    },
    {
     "name": "stdout",
     "output_type": "stream",
     "text": [
      "train_loss: 0.808745\n"
     ]
    },
    {
     "name": "stderr",
     "output_type": "stream",
     "text": [
      "100%|██████████| 447/447 [01:04<00:00,  6.91it/s]\n"
     ]
    },
    {
     "name": "stdout",
     "output_type": "stream",
     "text": [
      "val_loss: 0.647151, val_wll: 1.096557\n"
     ]
    },
    {
     "name": "stderr",
     "output_type": "stream",
     "text": [
      "100%|██████████| 336/336 [03:09<00:00,  1.77it/s]\n"
     ]
    },
    {
     "name": "stdout",
     "output_type": "stream",
     "text": [
      "train_loss: 0.807492\n"
     ]
    },
    {
     "name": "stderr",
     "output_type": "stream",
     "text": [
      "100%|██████████| 447/447 [01:04<00:00,  6.97it/s]"
     ]
    },
    {
     "name": "stdout",
     "output_type": "stream",
     "text": [
      "val_loss: 0.651283, val_wll: 1.090462\n",
      "early stopping\n"
     ]
    },
    {
     "name": "stderr",
     "output_type": "stream",
     "text": [
      "\n"
     ]
    }
   ],
   "source": [
    "train_y_len = len(train_y)\n",
    "for fold, (trn_idx,val_idx) in enumerate(skf.split(range(train_y_len))):\n",
    "    model = RSNAModel(40,75)\n",
    "    model = model.to(device)\n",
    "    \n",
    "    dataset = RSNADataset(train_y.iloc[trn_idx],\n",
    "                          transform=transforms_train)\n",
    "    dataloader = DataLoader(dataset,\n",
    "                            batch_size=4,\n",
    "                            shuffle=False,\n",
    "                            pin_memory=True,\n",
    "                            drop_last = False,\n",
    "                            num_workers=0)\n",
    "    \n",
    "    v_dataset = RSNADataset(train_y.iloc[val_idx],\n",
    "                            transform=transforms_train)\n",
    "    v_dataloader = DataLoader(v_dataset, batch_size=1,\n",
    "                              shuffle=False,\n",
    "                              pin_memory=True,\n",
    "                              drop_last = False,\n",
    "                              num_workers=0)\n",
    "    \n",
    "    n_labels = 25\n",
    "    \n",
    "    optimizer = torch.optim.AdamW(model.parameters(),lr=0.01)\n",
    "    criterion_train = nn.CrossEntropyLoss(weight=weights.to(device))\n",
    "    criterion_val = nn.CrossEntropyLoss(weight=weights)\n",
    "    \n",
    "    best_loss = 10 \n",
    "    best_wll = 10\n",
    "    es_step = 0\n",
    "\n",
    "    for epoch in range(1,1+num_epochs):\n",
    "        model.train()\n",
    "        total_loss = 0 \n",
    "        with tqdm(dataloader, leave=True) as pbar:\n",
    "            optimizer.zero_grad()\n",
    "            for idx, (x,t) in enumerate(pbar):\n",
    "                x = x.to(device).float()\n",
    "                t = t.to(device).long()\n",
    "                loss = 0\n",
    "                y = model(x)\n",
    "                for col in range(n_labels):\n",
    "                    pred = y[:,col*3:col*3+3]\n",
    "                    gt = t[:,col]\n",
    "                    loss = loss + criterion_train(pred,gt)/n_labels\n",
    "                total_loss += loss.item()\n",
    "\n",
    "                if not math.isfinite(loss):\n",
    "                    print(f\"Loss is {loss}, stopping training\")\n",
    "                    sys.exit(1)\n",
    "\n",
    "                scaler.scale(loss).backward()\n",
    "                torch.nn.utils.clip_grad_norm_(model.parameters(), 1e9)\n",
    "                scaler.step(optimizer)\n",
    "                scaler.update()\n",
    "                optimizer.zero_grad()\n",
    "        train_loss = total_loss/len(dataloader)\n",
    "        print(f'train_loss: {train_loss:.6f}')\n",
    "\n",
    "        total_loss = 0\n",
    "        y_preds = []\n",
    "        labels = []\n",
    "\n",
    "        model.eval()\n",
    "        with tqdm(v_dataloader,leave=True) as pbar:\n",
    "            with torch.no_grad():\n",
    "                for idx, (x,t) in enumerate(pbar):\n",
    "                    x = x.to(device).float()\n",
    "                    t = t.to(device).long()\n",
    "                    loss = 0\n",
    "                    y = model(x)\n",
    "                    for col in range(n_labels):\n",
    "                        pred = y[:, col*3:col*3+3]\n",
    "                        gt = t[:,col]\n",
    "                        loss = loss + criterion_train(pred,gt)/n_labels\n",
    "                        y_preds.append(pred.float().cpu())\n",
    "                        labels.append(gt.cpu())\n",
    "                    total_loss += loss.item()\n",
    "        val_loss = total_loss / len(v_dataloader)\n",
    "        y_preds = torch.cat(y_preds,dim=0)\n",
    "        labels = torch.cat(labels,dim=0)\n",
    "        val_wll = criterion_val(y_preds,labels)\n",
    "\n",
    "        print(f'val_loss: {val_loss:.6f}, val_wll: {val_wll:.6f}')\n",
    "        if val_loss < best_loss or val_wll<best_wll:\n",
    "            es_step = 0\n",
    "            if val_loss<best_loss:\n",
    "                print(f\"epoch: {epoch}, best loss updated from {best_loss:.6f} to {val_loss:.6f}\")\n",
    "                best_loss = val_loss\n",
    "            if val_wll<best_wll:\n",
    "                print(f\"epoch: {epoch}, best wll_metric updated from {best_wll:.6f} to {val_wll:.6f}\")\n",
    "                best_wll = val_wll\n",
    "            fname = f'rsna24-results/best_wll_model_fold-{fold}.pt'\n",
    "            torch.save(model.state_dict(),fname)                \n",
    "        else:\n",
    "            es_step += 1\n",
    "            if es_step >= 3:\n",
    "                print(\"early stopping\")\n",
    "                break"
   ]
  }
 ],
 "metadata": {
  "kaggle": {
   "accelerator": "gpu",
   "dataSources": [
    {
     "databundleVersionId": 8561470,
     "sourceId": 71549,
     "sourceType": "competition"
    },
    {
     "sourceId": 189953769,
     "sourceType": "kernelVersion"
    }
   ],
   "dockerImageVersionId": 30747,
   "isGpuEnabled": true,
   "isInternetEnabled": true,
   "language": "python",
   "sourceType": "notebook"
  },
  "kernelspec": {
   "display_name": "Python 3",
   "language": "python",
   "name": "python3"
  },
  "language_info": {
   "codemirror_mode": {
    "name": "ipython",
    "version": 3
   },
   "file_extension": ".py",
   "mimetype": "text/x-python",
   "name": "python",
   "nbconvert_exporter": "python",
   "pygments_lexer": "ipython3",
   "version": "3.10.13"
  },
  "papermill": {
   "default_parameters": {},
   "duration": 13640.503935,
   "end_time": "2024-07-28T21:32:57.051259",
   "environment_variables": {},
   "exception": null,
   "input_path": "__notebook__.ipynb",
   "output_path": "__notebook__.ipynb",
   "parameters": {},
   "start_time": "2024-07-28T17:45:36.547324",
   "version": "2.5.0"
  }
 },
 "nbformat": 4,
 "nbformat_minor": 5
}
