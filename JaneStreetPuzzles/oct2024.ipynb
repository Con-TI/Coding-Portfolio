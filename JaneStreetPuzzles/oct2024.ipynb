{
 "cells": [
  {
   "cell_type": "code",
   "execution_count": null,
   "metadata": {},
   "outputs": [
    {
     "data": {
      "text/html": [
       "[C = 11, A = 3, B = 26]"
      ],
      "text/plain": [
       "[C = 11, A = 3, B = 26]"
      ]
     },
     "execution_count": 10,
     "metadata": {},
     "output_type": "execute_result"
    }
   ],
   "source": [
    "# Method: I looked for two paths that give \n",
    "# the same equation then solve for the equation using z3.\n",
    "from z3 import *\n",
    "A, B, C = Ints('A B C')\n",
    "eqn_str = \"((A+A)*B+B)*C+C+C == 2024\"\n",
    "condition = eval(eqn_str)\n",
    "solver = Solver()\n",
    "solver.add(condition)\n",
    "solver.add(A+B+C<50)\n",
    "solver.add(A!=B,B!=C,A!=C)\n",
    "solver.add(A>0, B>0, C>0)\n",
    "solver.check()\n",
    "solver.model()"
   ]
  },
  {
   "cell_type": "code",
   "execution_count": null,
   "metadata": {},
   "outputs": [],
   "source": [
    "3,26,11,a1,b3,d2,c4,e3,d5,f6,a6,b4,c6,d4,f5,e3,f1"
   ]
  }
 ],
 "metadata": {
  "kernelspec": {
   "display_name": "Python 3",
   "language": "python",
   "name": "python3"
  },
  "language_info": {
   "codemirror_mode": {
    "name": "ipython",
    "version": 3
   },
   "file_extension": ".py",
   "mimetype": "text/x-python",
   "name": "python",
   "nbconvert_exporter": "python",
   "pygments_lexer": "ipython3",
   "version": "3.12.4"
  }
 },
 "nbformat": 4,
 "nbformat_minor": 2
}
